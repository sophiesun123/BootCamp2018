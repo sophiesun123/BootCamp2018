{
 "cells": [
  {
   "cell_type": "markdown",
   "metadata": {},
   "source": [
    "# Problem Set 6\n",
    "Sophie Sun"
   ]
  },
  {
   "cell_type": "markdown",
   "metadata": {},
   "source": [
    "EXERCISE 1\n",
    "\n",
    "If L isn't constant and $\\exists y$ where $ Ly \\neq Lx* $, then if $ Ly < Lx* $, then $ x* $  isn't a minimizer and if $ Ly > Lx* $, then $ L(x* - y) < 0 $ where $ L(x* + x* - y) = Lx* + L(x* - y) < Lx* \\rightarrow x* $ isn't a minimizer."
   ]
  },
  {
   "cell_type": "markdown",
   "metadata": {},
   "source": [
    "EXERCISE 2\n",
    "\n",
    "Minimize $||Ax - b||_2$ :\n",
    "$$ (Ax - b)^T(Ax - b) \\rightarrow (x^TA^T - b^T)(Ax - b) \\rightarrow x^TA^TAx - x^TA^Tb -b^TAx + 2b^Tb \\rightarrow $$\n",
    "$$ x^TA^TAx - 2b^TAx + 2b^Tb $$\n",
    "\n",
    "FOC: \n",
    "$$ 2x^TA^TA - 2b^TA = 0 \\rightarrow x^TA^TA = b^TA \\rightarrow A^TAx = A^Tb $$"
   ]
  },
  {
   "cell_type": "markdown",
   "metadata": {},
   "source": [
    "EXERCISE 4\n",
    "\n",
    "Because $ x_1 = x_0 - \\alpha Q(Qx_0 - b) = x_0 - \\alpha \\lambda (Qx_0 - b) $, minimizing $ \\alpha $ if $ \\alpha = \\frac{1}{\\lambda ^2} $ gives:\n",
    "$$ Qx_1 = Q(x_0 - \\alpha \\lambda (Qx_0 - b)) \\rightarrow Qx_0 - \\alpha \\lambda ^ 2(Qx_0 - b) \\rightarrow Qx_0 - Qx_0 - b \\rightarrow b $$\n",
    "Because $ Qx_1 = b $, $ x_1 $ is the min."
   ]
  },
  {
   "cell_type": "markdown",
   "metadata": {},
   "source": [
    "EXERCISE 5\n",
    "\n",
    "$$ <x_{k+1} - x_k,x_{k+2} - x_{k+1}> = <x_k - \\alpha_{k+1}Df^T(x_k) - x_k, x_{k+1} - \\alpha_{k+2}Df^T(x_k + 1) - x_{k+1}> \\rightarrow <-\\alpha_{k+1}Df^T(x_k), -\\alpha_{k+2}Df^T(x_k+1)> $$\n",
    "\n",
    "$$ <Df^T(x_k), Df^T(x_k+1)> = 0 \\rightarrow <x_{k+1} - x_k, x_{k+2} - x_{k+1} = 0> $$\n",
    "\n",
    "If $ -Df^T(x_k) $ is the direction of steepest descent, choose $ \\alpha $ to minimize $ f(x_{k+1} $ where $ x_{k+1} = x_k - \\alpha Df^T(x_k) $\n",
    "\n",
    "If $ -Df(x_k)(x_{k+1}) < 0 $, $ x* = x_k - (\\alpha + \\epsilon)Df^T(x_k), \\epsilon > 0 $ and if $ -Df(x_k)(x_{k+1}) > 0 $, $ x* = x_k - (\\alpha - \\epsilon)Df^T(x_k), \\epsilon > 0 $, so $ Df(x_k)(x_{k+1}) = 0 $, which means $ Df^T(x_{k+1}) $ is orthogonal to the level set of f at $ x_{k+1} $."
   ]
  },
  {
   "cell_type": "code",
   "execution_count": null,
   "metadata": {},
   "outputs": [],
   "source": [
    "# EXERCISE 6\n",
    "# import packages\n",
    "import numpy as np\n",
    "from matplotlib import pyplot as plt\n",
    "# function that implements the steepest descent method for quads\n",
    "def sd_quad(Q, b, c, x_0, tol, maxiter):\n",
    "    Df = lambda x: 0.5 * x.T @ (Q.T + Q) + b.T\n",
    "    i, norm, x = 0, 500, x_0\n",
    "    while (i < maxiter) and (norm > tol):\n",
    "        α = (Df(x) @ Df(x).T) / (Df(x) @ Q @ Df(x).T)\n",
    "        x1 = x - α * Df(x).T\n",
    "        x = np.copy(x1)\n",
    "        i += 1\n",
    "        norm = np.linalg.norm(Df(x))\n",
    "    fun = 0.5 * (x.T @ Q @ x) - b.T @ x + c \n",
    "    return x, fun\n",
    "# tol = 1e-6\n",
    "# maxiter = 1000"
   ]
  },
  {
   "cell_type": "markdown",
   "metadata": {},
   "source": [
    "EXERCISE 10\n",
    "\n",
    "$$ x_1 = x_0 - D^2f(x_0)^{-1}Df(x_0) \\rightarrow x_0 - Q^{-1}(Qx_0 - b) \\rightarrow x_0 - x_0 + Q^{-1}b \\rightarrow Q^{-1}b $$"
   ]
  },
  {
   "cell_type": "markdown",
   "metadata": {},
   "source": [
    "EXERCISE 12\n",
    "\n",
    "If $ v_i $ is the eigenvector of $ \\lambda_i $, then $ Bv_i = (A + \\mu I)v_i \\rightarrow Av_i + \\mu Iv_i \\rightarrow \\lambda_iv_i + \\mu v_i \\rightarrow (\\lambda_i + \\mu)v_i $."
   ]
  },
  {
   "cell_type": "markdown",
   "metadata": {},
   "source": [
    "EXERCISE 15\n",
    "\n",
    "$$ (A + BCD)(A^{-1} - A^{-1}B(C^{-1} + DA^{-1}B)^{-1}DA^{-1}) \\rightarrow $$\n",
    "\n",
    "$$ I - B(C^{-1} + DA^{-1}B)^{-1}DA^{-1} + BCDA^{-1} - BCDA^{-1}B(C^{-1} + DA^{-1}B)^{-1}DA^{-1} \\rightarrow $$\n",
    "\n",
    "$$ I + BCDA^{-1} - (B(C^{-1} + DA^{-1}B)^{-1}DA^{-1} + BCDA^{-1}B(C^{-1}+DA^{-1}B)^{-1}DA^{-1}) \\rightarrow $$\n",
    "\n",
    "$$ I + BCDA^{-1} - (B + BCDA^{-1}B)(C^{-1} + DA^{-1}B)^{-1}DA^{-1} \\rightarrow $$\n",
    "\n",
    "$$ I + BCDA^{-1} - BC(C^{-1} + DA^{-1}B)(C^{-1} + DA^{-1}B)^{-1}DA^{-1} \\rightarrow I + BCDA^{-1} - BCDA^{-1} \\rightarrow $$\n",
    "\n",
    "$$ I $$"
   ]
  },
  {
   "cell_type": "markdown",
   "metadata": {},
   "source": [
    "EXERCISE 18\n",
    "\n",
    "$$ \\phi_k(\\alpha) = f(x_k + \\alpha_kd_k) \\rightarrow \\frac{1}{2}x_k^TQx_k + \\alpha_k(d^k)^TQx_k + \\frac{\\alpha_k^2}{2}(d^k)^TQd^k - x_k^Tb - \\alpha_k(d_k)^T $$\n",
    "\n",
    "$$ \\frac{\\partial \\phi_k(\\alpha_k)}{\\partial \\alpha_k} = 0 \\rightarrow \\alpha_k(d^k)^TQd^k - (d^k)^Tb + (d^k)^TQx_k \\rightarrow $$\n",
    "\n",
    "$$ \\alpha_k(d^k)^TQd^k = (d^k)^Tb + (d^k)^TQx_k \\rightarrow (d^k)^T(b - Qx_k) \\rightarrow (d^k)^Tr_k \\rightarrow $$\n",
    "\n",
    "$$ \\alpha_k = \\frac{r_k}{Qd^k} $$"
   ]
  },
  {
   "cell_type": "markdown",
   "metadata": {},
   "source": [
    "EXERCISE 20\n",
    "\n",
    "Let $ W_i := \\{\\widetilde r^0, \\widetilde r^1, \\dots, \\widetilde r^{i-1}\\} $ where $ \\widetilde r^k := b - Qx^k \\rightarrow \\widetilde r^k - \\sum_{j=0}^{k-1}\\frac{(r^j, \\widetilde r^k)_Q}{||r^j||_A^2}r^j $\n",
    "\n",
    "$$ min_t f(x^i + t\\widetilde r^j) \\rightarrow Df(x^i)\\widetilde r^j = 0 \\rightarrow (Qx^i - b)^T\\widetilde r^j \\rightarrow -\\widetilde r^i \\widetilde r^j $$"
   ]
  }
 ],
 "metadata": {
  "kernelspec": {
   "display_name": "Python 3",
   "language": "python",
   "name": "python3"
  },
  "language_info": {
   "codemirror_mode": {
    "name": "ipython",
    "version": 3
   },
   "file_extension": ".py",
   "mimetype": "text/x-python",
   "name": "python",
   "nbconvert_exporter": "python",
   "pygments_lexer": "ipython3",
   "version": "3.6.4"
  }
 },
 "nbformat": 4,
 "nbformat_minor": 2
}
