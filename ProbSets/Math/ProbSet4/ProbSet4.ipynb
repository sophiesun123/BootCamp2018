{
 "cells": [
  {
   "cell_type": "markdown",
   "metadata": {},
   "source": [
    "# Problem Set 4\n",
    "Sophie Sun"
   ]
  },
  {
   "cell_type": "markdown",
   "metadata": {},
   "source": [
    "EXERCISE 6\n",
    "$$ \\frac{dx}{Df(x, y)} = 6xy + 4y^2 + y $$\n",
    "\n",
    "$$ \\frac{dy}{Df(x, y} = 3x^2 + 8xy + x $$\n",
    "\n",
    "$$ Df(x, y) = 0 \\ at \\ (0, 0), (-\\frac{1}{9}, -\\frac{1}{12}), (0, -\\frac{1}{4}), (-\\frac{1}{3}, 0)$$\n",
    "\n",
    "$$ \\frac{d^2x}{Df(x, y)^2} = 6y, 6x + 8y + 1 $$\n",
    "\n",
    "$$ \\frac{d^2y}{Df(x, y)^2} = 6x + 8y + 1, 8x $$\n",
    "\n",
    "$$ Df(x, y)^2|_{(0, 0)} = 0, 1, 1, 0 \\rightarrow \\ saddle \\ point $$\n",
    "\n",
    "$$ Df(x, y)^2|_{(-\\frac{1}{9}, -\\frac{1}{12})} = -\\frac{1}{2}, -\\frac{1}{3}, -\\frac{1}{3}, -\\frac{1}{9} \\rightarrow \\ local \\ maxima $$\n",
    "\n",
    "$$ Df(x, y)^2|_{(0, -\\frac{1}{4})} = -\\frac{6}{4}, -1, -1, 0 \\rightarrow \\ saddle \\ point $$\n",
    "\n",
    "$$ Df(x, y)^2|_{(-\\frac{1}{3}, 0)} = 0, -1, -1, -\\frac{8}{3} \\rightarrow \\ saddle \\ point $$"
   ]
  },
  {
   "cell_type": "markdown",
   "metadata": {},
   "source": [
    "EXERCISE 7\n",
    "\n",
    "(i) \n",
    "\n",
    "$$ A^T + A =   \n",
    "   \\begin{bmatrix}\n",
    "   2a_{11} & \\dots & a_{1n} + a_{n1} \\\\\n",
    "   \\vdots & \\ddots & \\vdots \\\\\n",
    "   a_{1n} + a_{n1} & \\dots & 2a_{nn}\n",
    "  \\end{bmatrix} $$\n",
    "$$ (A^T + A)^T =    \n",
    "   \\begin{bmatrix}\n",
    "   2a_{11} & \\dots & a_{1n} + a_{n1} \\\\\n",
    "   \\vdots & \\ddots & \\vdots \\\\\n",
    "   a_{1n} + a_{n1} & \\dots & 2a_{nn}\n",
    "  \\end{bmatrix} $$\n",
    "which means that $A^T + A$ is symmetric.\n",
    "\n",
    "$$ x^TQx = x^T(A^T + A)x = x^TA^Tx + x^TAx = x^TAx + x^TAx = 2x^TAx. $$\n",
    "\n",
    "$$ x^TAx - b^Tx + c = \\frac{1}{2} (2x^TAx) - b^Tx + c = \\frac{1}{2} (x^TAx + x^TAx) - b^Tx + c $$\n",
    "\n",
    "$$ = \\frac{1}{2} (x^TA^Tx + x^TAx) - b^Tx + c = x^T(A^T + A)x = \\frac{1}{2} (x^TQx) - b^Tx + c. $$\n",
    "\n",
    "(ii)\n",
    "\n",
    "Any minimizer x* of f is a solution of the equation $Q^Tx* = b$ because $f'(x) = Q^Tx - b$."
   ]
  },
  {
   "cell_type": "markdown",
   "metadata": {},
   "source": [
    "EXERCISE 11\n",
    "\n",
    "$$ f'(x) = 2ax + b $$\n",
    "\n",
    "$$ f\"(x) = 2a $$\n",
    "\n",
    "$$ x_1 = x_0 - \\frac{2ax_0 + b}{2a} = \\frac{2ax_0 - 2ax_0+ b}{2a} = -\\frac{b}{2a} $$\n",
    "\n",
    "$$ f'(-\\frac{b}{2a}) = 0 $$\n",
    "\n",
    "$$ f\"(-\\frac{b}{2a}) > 0 \\rightarrow \\ unique \\ minimizer $$"
   ]
  },
  {
   "cell_type": "code",
   "execution_count": 1,
   "metadata": {},
   "outputs": [
    {
     "data": {
      "text/plain": [
       "0.5456303378060755"
      ]
     },
     "execution_count": 1,
     "metadata": {},
     "output_type": "execute_result"
    }
   ],
   "source": [
    "# EXERCISE 15\n",
    "# function for secant method\n",
    "import numpy as np\n",
    "def sec(x0, x1, f, ɛ=1e-8, max_iter=100):\n",
    "    # create array to store x vals, initialize with x0, x1\n",
    "    x = np.zeros(max_iter)\n",
    "    x[0], x[1] = x0, x1\n",
    "    # create array to store f vals, initialize with f(x0)\n",
    "    f1 = np.zeros(max_iter)\n",
    "    f1[0] = f(x0)\n",
    "    # initialize variables\n",
    "    dist = 1e3\n",
    "    i = 1\n",
    "    # while loop to find minimizer with the secant method\n",
    "    while dist > ɛ and i < max_iter:\n",
    "        f1[i] = f(x[i])\n",
    "        x[i + 1] = x[i] - f1[i] * (x[i] - x[i - 1])/(f1[i] - f1[i - 1])\n",
    "        dist = np.abs(x[i] - x[i-1]) / np.abs(x[i])\n",
    "        i += 1\n",
    "    # if distance is greater than epsilon, the sequence doesn't converge\n",
    "    if dist > ɛ:\n",
    "        print(\"Sequence doesn't converge\")\n",
    "    return x[i]\n",
    "\n",
    "# TEST\n",
    "f = lambda x: x ** 4 + 3 * x ** 3 - 5 * x ** 2 + 20 * x - 10\n",
    "x0 = 0\n",
    "x1 = 1\n",
    "sec(x0, x1, f)"
   ]
  },
  {
   "cell_type": "markdown",
   "metadata": {},
   "source": [
    "EXERCISE 1\n",
    "\n",
    "$$ Take \\ a, b \\in conv(S) \\ where \\ a = \\sum_{i = 0}^n \\delta_ix_i \\ and \\ b = \\sum_{i = 0}^n \\gamma_ix_i $$\n",
    "\n",
    "$$ Convex \\ combination: \\ \\lambda a + (1 - \\lambda)b = \\lambda \\sum_{i=1}^n \\delta_i + (1 - \\lambda)\\sum_{i=1}^n\\gamma_i \\rightarrow \\lambda + 1 - \\lambda = 1 $$"
   ]
  },
  {
   "cell_type": "markdown",
   "metadata": {},
   "source": [
    "EXERCISE 2\n",
    "\n",
    "(i) $$ Take \\ x, y \\in P \\ where \\ P \\ is \\ the \\ hyperplane <a, x> = b \\ where \\ \\sum_{i=1}^n a_nx_n = b \\ and \\ \\sum_{i=1}^n a_ny_n = b $$\n",
    "\n",
    "$$ Convex \\ combination: \\ \\lambda x + (1 - \\lambda)y = \\lambda \\sum_{i=1}^n a_nx_n + (1 - \\lambda) \\sum_{i=1}^n a_ny_n \\rightarrow \\lambda b + (1 - \\lambda)b = b $$\n",
    "\n",
    "(ii) $$ Take \\ x, y \\in H \\ where \\ H \\ is \\ the \\ halfspace <a, x> \\leq b \\ where \\ \\sum_{i=1}^n a_nx_n \\leq b \\ and \\ \\sum_{i=1}^n a_ny_n \\leq b $$\n",
    "\n",
    "$$ Convex \\ combination: \\ \\lambda x + (1 - \\lambda)y = \\lambda \\sum_{i=1}^n a_nx_n + (1 - \\lambda) \\sum_{i=1}^n a_ny_n \\leq \\lambda b + (1 - \\lambda)b = b $$"
   ]
  },
  {
   "cell_type": "markdown",
   "metadata": {},
   "source": [
    "EXERCISE 4\n",
    "\n",
    "(i) $$ ||x-y||^2 = \\ <x-y, x-y> \\ = \\ <x-p+p-y, x-p+p-y> $$\n",
    "$$ = \\ <x-p, x-p> + 2<x-p, p-y> + <p-y, p-y> $$\n",
    "$$ = \\ ||x-p||^2 + ||p-y||^2 + 2<x-p, p-y> $$\n",
    "\n",
    "(ii) $$ ||x-y||^2 - ||x-p||^2 - ||p-y||^2 \\geq 0, \\ so \\ ||x-y||^2 > ||x-p||^2 \\ for \\ y \\neq p \\ and \\ nonnegative \\ inner \\ product $$\n",
    "\n",
    "(iii) $$ ||x-z||^2 = \\ <x-p+\\lambda p-\\lambda y, x-p+\\lambda p -\\lambda y> $$ \n",
    "\n",
    "$$ = \\ ||x-p||^2 + \\lambda^2||p-y||^2 + 2\\lambda <x-p, p-y> $$"
   ]
  },
  {
   "cell_type": "markdown",
   "metadata": {},
   "source": [
    "EXERCISE 8\n",
    "\n",
    "Take $x, y \\in \\mathbb{R}^n \\ and \\ \\lambda \\in [0, 1]$\n",
    "\n",
    "$$ g(\\lambda x + (1 - \\lambda)y) = f(\\lambda Ax + (1 - \\lambda) Ay + b) = f(\\lambda (Ax + b) + (1 - \\lambda)(Ay + b)) $$\n",
    "\n",
    "$$ \\leq \\lambda f(Ax + b) + (1 - \\lambda) f (Ay + b) = \\lambda g(x) + (1 - \\lambda) g(y) $$"
   ]
  },
  {
   "cell_type": "markdown",
   "metadata": {},
   "source": [
    "EXERCISE 12\n",
    "\n",
    "(i)\n",
    "\n",
    "Take $x, y \\in PD_n(\\mathbb{R}), \\ \\lambda \\in [0,1], \\ and \\ z \\in \\mathbb{R}^n$\n",
    "\n",
    "$$ z^T(\\lambda x + (1 - \\lambda) y)z = \\lambda (z^Txz) + (1 - \\lambda)(z^Tyz) > 0 $$\n",
    "\n",
    "(ii)\n",
    "\n",
    "(a)\n",
    "\n",
    "Take $x, y \\in \\mathbb{R}, \\ A, B \\in PD_n(\\mathbb{R}), \\ and \\ \\lambda \\in [0, 1]$\n",
    "\n",
    "$$ \\lambda g(x) + (1 - \\lambda) g(y) = \\lambda f(Ax + B(1 - x)) + (1 - \\lambda) f(Ay + B(1 - y)) $$\n",
    "\n",
    "$$ g(\\lambda x + (1 - \\lambda)y) = f(A(\\lambda x + (1 - \\lambda y)) + B((1 - \\lambda)x + (1 - \\lambda)y) = f(\\lambda (Ax + B(1 - x)) + (1 - \\lambda)(Ay  + B(1 - y))  $$\n",
    "\n",
    "$$ \\leq \\lambda f(Ax + B(1 - x)) + (1 - \\lambda) f(Ay + B(1 - y)) $$\n",
    "\n",
    "(b)\n",
    "\n",
    "$$ Ax + B(1 - x) = S^H(Ix + (1 - x)(S^H)^{-1} BS^{-1})S $$\n",
    "\n",
    "$$ g(x) = -log(det(Ax + B(1 - x))) = -log(det(S^H(IX + (1 - x)(S^H)^{-1} BS^{-1})S))) $$\n",
    "\n",
    "$$ = -log(det(S^H)) - log(det(IX + (1 - x) (S^H)^{-1} BS^{-1})) -log(det(S)) = -log(det(A)) - log(det(Ix + (1 - x)(S^H)^{-1}BS^{-1}))$$\n",
    "\n",
    "(c)\n",
    "\n",
    "$$ ((S^H)^{-1}BS^{-1})^{-1} = SB^{-1}S^H \\in PD_n(\\mathbb{R}) \\rightarrow (S^H)^{-1} BS^{-1} \\in PD_n(\\mathbb{R}) $$\n",
    "\n",
    "eigenvalues and eigenvectors: $ (Ix + (1 - x) (S^H)^{-1}BS^{-1})v_i = (x + (1 - x)\\lambda_i)v_i \\rightarrow $ \n",
    "\n",
    "$$ -log(det(A)) - log(det(Ix + (1 - x) (S^H)^{-1}BS^{-1})) = -log(det(A)) - \\sum_{i=1}^n log(x + (1 - x) \\lambda_i) $$\n",
    "\n",
    "(d)\n",
    "\n",
    "$$ g'(x) = \\sum_{i=1}^n \\frac{1 - \\lambda_i}{x + (1 - x) \\lambda_i} \\rightarrow g\"(x) = \\sum_{i=1}^n = \\frac{(1 - \\lambda_i)^2}{(x + (1 - x) \\lambda_i)^2} \\geq 0 $$"
   ]
  },
  {
   "cell_type": "markdown",
   "metadata": {},
   "source": [
    "EXERCISE 13\n",
    "\n",
    "If f isn't constant for x, y $\\in \\mathbb(R)^n$, \n",
    "\n",
    "$$ f(\\lambda x + (1 - \\lambda y) \\leq \\lambda f(x) + (1-\\lambda)f(y) \\rightarrow \\frac{f(z) - (1 - \\lambda f(y))}{\\lambda} \\leq f(x)$$"
   ]
  },
  {
   "cell_type": "markdown",
   "metadata": {},
   "source": [
    "EXERCISE 20\n",
    "\n",
    "$$ Both \\ f \\ and \\ -f \\ are \\ convex, \\ so \\ f(\\lambda x + (1 - \\lambda y) \\leq \\lambda f(x) + (1-\\lambda)f(y) \\ and \\ -f(\\lambda x + (1 - \\lambda y) \\leq -\\lambda f(x) + (1-\\lambda)f(y) \\rightarrow f(\\lambda x + (1 - \\lambda y) \\geq \\lambda f(x) + (1-\\lambda)f(y) \\rightarrow f(\\lambda x + (1 - \\lambda y) = \\lambda f(x) + (1-\\lambda)f(y)$$"
   ]
  },
  {
   "cell_type": "markdown",
   "metadata": {},
   "source": [
    "EXERCISE 21\n",
    "\n",
    "If x* is a minimizer of f(x) subject to G(x) $\\leq$ 0 and H(x) = 0, f(x*) $\\leq$ f(x) and because $\\phi$ is increasing, $\\phi$(x) > $\\phi$(y) if x < y, so $\\phi \\circ f(x*) \\leq \\phi \\circ f(x)$\n",
    "\n",
    "If x* is a minimizer of $\\phi \\circ f(x)$ subject to G(x) $\\leq$ 0 and H(x) = 0, $\\phi \\circ f(x') = \\phi \\circ f(x*)$. But, since $\\phi$ is increasing, f(x*) = f(x') $\\leq$ f(x)\n"
   ]
  }
 ],
 "metadata": {
  "kernelspec": {
   "display_name": "Python 3",
   "language": "python",
   "name": "python3"
  },
  "language_info": {
   "codemirror_mode": {
    "name": "ipython",
    "version": 3
   },
   "file_extension": ".py",
   "mimetype": "text/x-python",
   "name": "python",
   "nbconvert_exporter": "python",
   "pygments_lexer": "ipython3",
   "version": "3.6.4"
  }
 },
 "nbformat": 4,
 "nbformat_minor": 2
}
