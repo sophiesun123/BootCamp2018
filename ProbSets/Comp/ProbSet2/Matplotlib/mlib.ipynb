{
 "cells": [
  {
   "cell_type": "code",
   "execution_count": 1,
   "metadata": {},
   "outputs": [],
   "source": [
    "# import packages\n",
    "import numpy as np\n",
    "import matplotlib.pyplot as plt"
   ]
  },
  {
   "cell_type": "code",
   "execution_count": 2,
   "metadata": {},
   "outputs": [],
   "source": [
    "# Problem 1\n",
    "# function that creates a nxn array of values and computes the mean and variance\n",
    "def m1(n): \n",
    "\tarr = np.random.normal(size=(n,n))\n",
    "\t# compute mean of each row\n",
    "\tmeans = np.mean(arr, axis=1)\n",
    "\t# return var of means\n",
    "\treturn (np.var(means))"
   ]
  },
  {
   "cell_type": "code",
   "execution_count": 3,
   "metadata": {},
   "outputs": [],
   "source": [
    "# function that creates an array of the var of nxn arrays and plots the result\n",
    "def m(): \n",
    "\tx = []\n",
    "\ty = []\n",
    "\tfor i in range(10):\n",
    "\t\tval = 100 + (i+1)\n",
    "\t\tx.append(val)\n",
    "\t\ty.append(m1(val))\n",
    "\t\tplt.plot(x, y)\n",
    "\tplt.show()\n",
    "m()"
   ]
  },
  {
   "cell_type": "code",
   "execution_count": 4,
   "metadata": {},
   "outputs": [],
   "source": [
    "# Problem 2\n",
    "# function that plot sin, cos, and arctan\n",
    "def m2(): \n",
    "\t# create array of evenly spaced values with 100 points\n",
    "\tx = np.linspace(-2 * np.pi, 2 * np.pi, 100)\n",
    "\t# define functions\n",
    "\ty1 = np.sin(x)\n",
    "\ty2 = np.cos(x)\n",
    "\ty3 = np.arctan(x)\n",
    "\t# plot functions\n",
    "\tplt.plot(x, y1)\n",
    "\tplt.plot(x, y2)\n",
    "\tplt.plot(x, y3)\n",
    "\tplt.show()\n",
    "m2()"
   ]
  },
  {
   "cell_type": "code",
   "execution_count": 9,
   "metadata": {},
   "outputs": [],
   "source": [
    "# Problem 3\n",
    "# function that plots the f(x) = 1 / (x - 1) curve\n",
    "def m3(): \n",
    "\t# separate domains\n",
    "\tx1 = np.linspace(-2, 1)\n",
    "\ty1 = 1 / (x1 - 1)\n",
    "\tx2 = np.linspace(1, 6)\n",
    "\ty2 = 1 / (x2 - 1)\n",
    "\t# plot separate parts of the function\n",
    "\tplt.plot(x1, y1, 'k--', color = 'm', linewidth=4)\n",
    "\tplt.plot(x2, y2, 'k--', color = 'm', linewidth=4)\n",
    "\t# restrict the domain and range\n",
    "\tplt.xlim(-2,6)\n",
    "\tplt.ylim(-6,6)\n",
    "\tplt.show()\n",
    "m3()"
   ]
  },
  {
   "cell_type": "code",
   "execution_count": 6,
   "metadata": {},
   "outputs": [],
   "source": [
    "# Problem 4\n",
    "# function that plots functions in subplots\n",
    "def m4():\n",
    "\t\t# create array of evenly spaced values with 100 points\n",
    "\tx = np.linspace(-2 * np.pi, 2 * np.pi, 100)\n",
    "\t# define functions\n",
    "\ty1 = np.sin(x)\n",
    "\ty2 = np.sin(2 * x)\n",
    "\ty3 = 2 * np.sin(x)\n",
    "\ty4 = 2 * np.sin(2 * x)\n",
    "\t# plot functions\n",
    "\tax1 = plt.subplot(221)\n",
    "\tax1.plot(x, y1, color = 'g')\n",
    "\tplt.axis([0, 2 * np.pi, -2, 2])\n",
    "\tax1.set_title(\"Sin(x) Graph\")\n",
    "\tax2 = plt.subplot(222)\n",
    "\tax2.plot(x, y2, 'k--', color = 'r')\n",
    "\tplt.axis([0, 2 * np.pi, -2, 2])\n",
    "\tax2.set_title(\"Sin(2x) Graph\")\n",
    "\tax3 = plt.subplot(223)\n",
    "\tax3.plot(x, y3, 'k--', color = 'b')\n",
    "\tplt.axis([0, 2 * np.pi, -2, 2])\n",
    "\tax3.set_title(\"2sin(x) Graph\")\n",
    "\tax4 = plt.subplot(224)\n",
    "\tax4.plot(x, y4, 'k--', color = 'm')\n",
    "\tplt.axis([0, 2 * np.pi, -2, 2])\n",
    "\tax4.set_title(\"2sin(2x) Graph\")\n",
    "\tplt.suptitle(\"Exercise 4\")\n",
    "\tplt.show()\n",
    "m4()"
   ]
  },
  {
   "cell_type": "code",
   "execution_count": 7,
   "metadata": {},
   "outputs": [],
   "source": [
    "# Problem 5\n",
    "# function that visualizes data for FARS\n",
    "def m5():\n",
    "\t# load in data\n",
    "\tarr = np.load('FARS.npy')\n",
    "\t# define x and y\n",
    "\thr = arr[:,0]\n",
    "\tlon = arr[:,1]\n",
    "\tlat = arr[:,2]\n",
    "\t# scatterplot\n",
    "\tax1 = plt.subplot(121)\n",
    "\tax1.plot(lon, lat, 'k,')\n",
    "\tplt.xlabel(\"Longitude\")\n",
    "\tplt.ylabel(\"Latitude\")\n",
    "\tplt.axis(\"equal\")\n",
    "\t# histogram\n",
    "\tax2 = plt.subplot(122)\n",
    "\tax2.hist(hr, bins=24, range = [0,24])\n",
    "\tplt.xlabel(\"Hour\")\n",
    "\tplt.show()\n",
    "m5()"
   ]
  },
  {
   "cell_type": "code",
   "execution_count": 8,
   "metadata": {},
   "outputs": [],
   "source": [
    "# Problem 6\n",
    "# function that plots (sin(x) * sin(y)) / (x * y)\n",
    "def m6():\n",
    "\t# create a 2-D domain with np.meshgrid()\n",
    "\tx = np.linspace(-2 * np.pi, 2 * np.pi, 100)\n",
    "\ty = x.copy()\n",
    "\tX, Y = np.meshgrid(x,y)\n",
    "\tg = (np.sin(X) * np.sin(Y)) / (X * Y)\n",
    "\t# heat map\n",
    "\tax1 = plt.subplot(121)\n",
    "\tplt.pcolormesh(X, Y, g, cmap=\"viridis\")\n",
    "\tplt.colorbar()\n",
    "\tplt.axis([-2 * np.pi, 2 * np.pi, -2 * np.pi, 2 * np.pi])\n",
    "\t# contour map\n",
    "\tax2 = plt.subplot(122)\n",
    "\tplt.contour(X, Y, g, 10, cmap=\"coolwarm\")\n",
    "\tplt.colorbar()\n",
    "\tplt.axis([-2 * np.pi, 2 * np.pi, -2 * np.pi, 2 * np.pi])\n",
    "\tplt.show()\n",
    "m6()"
   ]
  }
 ],
 "metadata": {
  "kernelspec": {
   "display_name": "Python 3",
   "language": "python",
   "name": "python3"
  },
  "language_info": {
   "codemirror_mode": {
    "name": "ipython",
    "version": 3
   },
   "file_extension": ".py",
   "mimetype": "text/x-python",
   "name": "python",
   "nbconvert_exporter": "python",
   "pygments_lexer": "ipython3",
   "version": "3.6.4"
  }
 },
 "nbformat": 4,
 "nbformat_minor": 2
}
