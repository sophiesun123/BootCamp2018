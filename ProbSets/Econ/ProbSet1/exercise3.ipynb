{
 "cells": [
  {
   "cell_type": "code",
   "execution_count": 8,
   "metadata": {},
   "outputs": [],
   "source": [
    "# Import packages\n",
    "import math\n",
    "import numpy as np\n",
    "import matplotlib.pyplot as plt\n",
    "import ar1_approx as ap\n",
    "\n",
    "# to print plots inline\n",
    "%matplotlib inline"
   ]
  },
  {
   "cell_type": "code",
   "execution_count": 20,
   "metadata": {},
   "outputs": [],
   "source": [
    "β = 0.96\n",
    "γ = 0.5\n",
    "δ = 0.05\n",
    "α = 0.4\n",
    "σ = 0.2\n",
    "v = 0.1\n",
    "ρ = 0.8\n",
    "μ = 0\n",
    "u = lambda c, γ: c**(1 - γ)/(1-γ)\n",
    "N = 50  # number of random draws"
   ]
  },
  {
   "cell_type": "code",
   "execution_count": 21,
   "metadata": {},
   "outputs": [
    {
     "name": "stdout",
     "output_type": "stream",
     "text": [
      "[-0.80696893 -0.62926064 -0.54915319 -0.49238768 -0.44720176 -0.40903586\n",
      " -0.37560377 -0.34558384 -0.31813795 -0.29269838 -0.26886106 -0.24632683\n",
      " -0.22486704 -0.20430215 -0.18448782 -0.16530559 -0.14665636 -0.12845576\n",
      " -0.11063072 -0.09311689 -0.07585669 -0.05879774 -0.04189157 -0.0250926\n",
      " -0.00835718  0.00835718  0.0250926   0.04189157  0.05879774  0.07585669\n",
      "  0.09311689  0.11063072  0.12845576  0.14665636  0.16530559  0.18448782\n",
      "  0.20430215  0.22486704  0.24632683  0.26886106  0.29269838  0.31813795\n",
      "  0.34558384  0.37560377  0.40903586  0.44720176  0.49238768  0.54915319\n",
      "  0.62926064  0.80696893] [[4.22586002e-01 1.84091798e-01 1.10693930e-01 ... 1.04614526e-08\n",
      "  1.77714567e-09 8.14598312e-11]\n",
      " [1.84091798e-01 1.61166861e-01 1.25324213e-01 ... 1.59001180e-07\n",
      "  3.12924328e-08 1.77714568e-09]\n",
      " [1.10693930e-01 1.25324213e-01 1.10930620e-01 ... 7.30208867e-07\n",
      "  1.59001180e-07 1.04614526e-08]\n",
      " ...\n",
      " [1.04614526e-08 1.59001180e-07 7.30208867e-07 ... 1.10930620e-01\n",
      "  1.25324213e-01 1.10693930e-01]\n",
      " [1.77714568e-09 3.12924328e-08 1.59001180e-07 ... 1.25324213e-01\n",
      "  1.61166861e-01 1.84091798e-01]\n",
      " [8.14598369e-11 1.77714568e-09 1.04614526e-08 ... 1.10693930e-01\n",
      "  1.84091798e-01 4.22586002e-01]]\n"
     ]
    }
   ],
   "source": [
    "z_grid, pi = ap.addacooper(N, μ, ρ, σ)"
   ]
  },
  {
   "cell_type": "code",
   "execution_count": 22,
   "metadata": {},
   "outputs": [],
   "source": [
    "'''\n",
    "Create Grid for State Space    \n",
    "------------------------------------------------------------------------\n",
    "lb_k      = scalar, lower bound of y grid\n",
    "ub_k      = scalar, upper bound of y grid \n",
    "size_k    = integer, number of grid points in y state space\n",
    "k_grid    = vector, size_w x 1 vector of y grid points \n",
    "------------------------------------------------------------------------\n",
    "'''\n",
    "lb_k = 0.4 \n",
    "ub_k = 2.0 \n",
    "size_k = 50  # Number of grid points\n",
    "k_grid = np.linspace(lb_k, ub_k, size_k)\n",
    "\n",
    "'''\n",
    "------------------------------------------------------------------------\n",
    "Create grid of current utility values    \n",
    "------------------------------------------------------------------------\n",
    "C        = matrix, current consumption (c=y-i)\n",
    "u        = matrix, current period utility value for all possible\n",
    "           choices of k and k' (rows are k, columns k')\n",
    "------------------------------------------------------------------------\n",
    "'''\n",
    "C_n = np.zeros(N) # initialize array that will be populated with c at index n given z, k, and k'\n",
    "C = np.zeros((size_k, size_k)) \n",
    "for i in range(size_k): # loop over k\n",
    "    for j in range(size_k): # loop over k'\n",
    "            for n in range(N):\n",
    "                C_n[n] = (1 - δ) * pi[i,n] * k_grid[i]**α - k_grid[j]\n",
    "            C[i, j] = C_n.mean()\n",
    "# replace 0 and negative consumption with a tiny value \n",
    "# This is a way to impose non-negativity on cons\n",
    "C[C<=0] = 1e-15\n",
    "U = u(C, γ)"
   ]
  },
  {
   "cell_type": "code",
   "execution_count": 23,
   "metadata": {},
   "outputs": [
    {
     "name": "stdout",
     "output_type": "stream",
     "text": [
      "Value function converged after this many iterations: 48\n"
     ]
    }
   ],
   "source": [
    "'''\n",
    "------------------------------------------------------------------------\n",
    "Value Function Iteration    \n",
    "------------------------------------------------------------------------\n",
    "VFtol     = scalar, tolerance required for value function to converge\n",
    "VFdist    = scalar, distance between last two value functions\n",
    "VFmaxiter = integer, maximum number of iterations for value function\n",
    "V         = vector, the value functions at each iteration\n",
    "Vmat      = matrix, the value for each possible combination of w and w'\n",
    "Vstore    = matrix, stores V at each iteration \n",
    "VFiter    = integer, current iteration number\n",
    "TV        = vector, the value function after applying the Bellman operator\n",
    "PF        = vector, indicies of choices of w' for all w \n",
    "VF        = vector, the \"true\" value function\n",
    "------------------------------------------------------------------------\n",
    "'''\n",
    "VFtol = 1e-8 \n",
    "VFdist = 7.0 \n",
    "VFmaxiter = 3000 \n",
    "V = np.zeros(size_k) # initial guess at value function\n",
    "Vmat = np.zeros((size_k, size_k)) # initialize Vmat matrix\n",
    "Vstore = np.zeros((size_k, VFmaxiter)) #initialize Vstore array\n",
    "VFiter = 1 \n",
    "while VFdist > VFtol and VFiter < VFmaxiter:  \n",
    "    for i in range(size_k): # loop over k\n",
    "        for j in range(size_k): # loop over k'\n",
    "            for k in range(size_k): # loop over z\n",
    "                Vmat[i, j] = U[i, j] + β * V[j]\n",
    "    Vstore[:, VFiter] = V.reshape(size_k,) # store value function at each iteration for graphing later\n",
    "    TV = Vmat.max(1) # apply max operator to Vmat (to get V(w))\n",
    "    PF = np.argmax(Vmat, axis=1)\n",
    "    VFdist = (np.absolute(V - TV)).max()  # check distance\n",
    "    V = TV\n",
    "    VFiter += 1 \n",
    "    \n",
    "if VFiter < VFmaxiter:\n",
    "    print('Value function converged after this many iterations:', VFiter)\n",
    "else:\n",
    "    print('Value function did not converge')            \n",
    "\n",
    "VF = V # solution to the functional equation"
   ]
  },
  {
   "cell_type": "code",
   "execution_count": 25,
   "metadata": {},
   "outputs": [],
   "source": [
    "'''\n",
    "------------------------------------------------------------------------\n",
    "Find consumption and savings policy functions   \n",
    "------------------------------------------------------------------------\n",
    "optk  = vector, the optimal choice of k' for each k\n",
    "optC  = vector, the optimal choice of c for each c\n",
    "------------------------------------------------------------------------\n",
    "'''\n",
    "optk = k_grid[PF] # tomorrow's optimal cake size (savings function)\n",
    "optC = (1 - δ) * k_grid + pi[i,n] * k_grid**α - optk # optimal consumption - get consumption through the transition eqn"
   ]
  },
  {
   "cell_type": "code",
   "execution_count": 26,
   "metadata": {},
   "outputs": [
    {
     "data": {
      "image/png": "[encoded data removed]",
      "text/plain": [
       "<matplotlib.figure.Figure at 0x114b211d0>"
      ]
     },
     "metadata": {},
     "output_type": "display_data"
    }
   ],
   "source": [
    "# Plot value function # Plot v \n",
    "plt.figure()\n",
    "# plt.plot(kvec, VF)\n",
    "plt.scatter(k_grid[1:], VF[1:])\n",
    "plt.xlabel('Capital Stock')\n",
    "plt.ylabel('Value Function')\n",
    "plt.title('Value Function - Exercise 3')\n",
    "plt.show()"
   ]
  },
  {
   "cell_type": "code",
   "execution_count": 27,
   "metadata": {},
   "outputs": [
    {
     "data": {
      "text/plain": [
       "<matplotlib.figure.Figure at 0x114b21e80>"
      ]
     },
     "metadata": {},
     "output_type": "display_data"
    },
    {
     "data": {
      "image/png": "[encoded data removed]",
      "text/plain": [
       "<matplotlib.figure.Figure at 0x114b21160>"
      ]
     },
     "metadata": {},
     "output_type": "display_data"
    }
   ],
   "source": [
    "#Plot optimal consumption rule as a function of capital stock\n",
    "plt.figure()\n",
    "fig, ax = plt.subplots()\n",
    "ax.plot(k_grid[1:], optC[1:], label='Consumption')\n",
    "# Now add the legend with some customizations.\n",
    "legend = ax.legend(loc='upper left', shadow=False)\n",
    "# Set the fontsize\n",
    "for label in legend.get_texts():\n",
    "    label.set_fontsize('large')\n",
    "for label in legend.get_lines():\n",
    "    label.set_linewidth(1.5)  # the legend line width\n",
    "plt.xlabel('Capital Stock')\n",
    "plt.ylabel('Optimal Consumption')\n",
    "plt.title('Policy Function, consumption - Exercise 3')\n",
    "plt.show()"
   ]
  },
  {
   "cell_type": "code",
   "execution_count": 28,
   "metadata": {},
   "outputs": [
    {
     "data": {
      "text/plain": [
       "<matplotlib.figure.Figure at 0x1194d1630>"
      ]
     },
     "metadata": {},
     "output_type": "display_data"
    },
    {
     "data": {
      "image/png": "[encoded data removed]",
      "text/plain": [
       "<matplotlib.figure.Figure at 0x1194d1208>"
      ]
     },
     "metadata": {},
     "output_type": "display_data"
    }
   ],
   "source": [
    "#Plot optimal consumption rule as a function of capital stock\n",
    "plt.figure()\n",
    "fig, ax = plt.subplots()\n",
    "ax.plot(k_grid[1:], optC[1:], label='Consumption')\n",
    "# Now add the legend with some customizations.\n",
    "legend = ax.legend(loc='upper left', shadow=False)\n",
    "# Set the fontsize\n",
    "for label in legend.get_texts():\n",
    "    label.set_fontsize('large')\n",
    "for label in legend.get_lines():\n",
    "    label.set_linewidth(1.5)  # the legend line width\n",
    "plt.xlabel('Capital Stock')\n",
    "plt.ylabel('Optimal Consumption')\n",
    "plt.title('Policy Function, consumption - Exercise 3')\n",
    "plt.show()"
   ]
  },
  {
   "cell_type": "code",
   "execution_count": null,
   "metadata": {},
   "outputs": [],
   "source": []
  }
 ],
 "metadata": {
  "kernelspec": {
   "display_name": "Python 3",
   "language": "python",
   "name": "python3"
  },
  "language_info": {
   "codemirror_mode": {
    "name": "ipython",
    "version": 3
   },
   "file_extension": ".py",
   "mimetype": "text/x-python",
   "name": "python",
   "nbconvert_exporter": "python",
   "pygments_lexer": "ipython3",
   "version": "3.6.4"
  }
 },
 "nbformat": 4,
 "nbformat_minor": 2
}
