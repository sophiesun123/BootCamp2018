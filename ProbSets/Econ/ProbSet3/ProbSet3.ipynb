{
 "cells": [
  {
   "cell_type": "markdown",
   "metadata": {},
   "source": [
    "Computation Problem Set 3"
   ]
  },
  {
   "cell_type": "markdown",
   "metadata": {},
   "source": [
    "Sophie Sun"
   ]
  },
  {
   "cell_type": "markdown",
   "metadata": {},
   "source": [
    "Note: I got a lot of help from Natasha! "
   ]
  },
  {
   "cell_type": "code",
   "execution_count": 1,
   "metadata": {},
   "outputs": [],
   "source": [
    "# import packages\n",
    "import numpy as np\n",
    "from scipy import optimize as opt\n",
    "import matplotlib.pyplot as plt\n",
    "import time"
   ]
  },
  {
   "cell_type": "code",
   "execution_count": 2,
   "metadata": {},
   "outputs": [],
   "source": [
    "# variables using calibration from section 2.6\n",
    "α = 0.35\n",
    "δ = 0.6415\n",
    "β = 0.442\n",
    "σ = 3\n",
    "A = 1\n",
    "nvec = np.array([1.0, 1.0, 0.2])"
   ]
  },
  {
   "cell_type": "code",
   "execution_count": 3,
   "metadata": {},
   "outputs": [],
   "source": [
    "# functions used in exercises\n",
    "# function that calculates u\n",
    "def u(c): \n",
    "    return (c ** (1 - σ) - 1) / (1 - σ)\n",
    "# function that calculates u'\n",
    "def u1(c):\n",
    "    return c ** (-σ)\n",
    "# function that calculates w\n",
    "def w(α, A, K, L):\n",
    "    return (1 - α) * A * (K / L) ** α \n",
    "# function that calculates r\n",
    "def r(α, A, L, K, δ): \n",
    "    return α * A * (L / K) ** (1 - α) - δ"
   ]
  },
  {
   "cell_type": "code",
   "execution_count": 4,
   "metadata": {},
   "outputs": [],
   "source": [
    "# PROBLEM 2.1\n",
    "# function feasible\n",
    "def feasible(f_params, bvec_guess):\n",
    "    nvec, A, α, δ = f_params\n",
    "    K, L = np.sum(bvec_guess), np.sum(nvec)\n",
    "    # initialize cnstr\n",
    "    b_cnstr, c_cnstr, K_cnstr = np.zeros(2, dtype=bool), np.zeros(3, dtype=bool), np.zeros(1, dtype=bool)\n",
    "    # calculate w* and r*\n",
    "    w_rate = w(α, A, K, L)\n",
    "    r_rate = r(α, A, L, K, δ)\n",
    "    # find c at each period\n",
    "    c1 = nvec[0] * w_rate - bvec_guess[0]\n",
    "    c2 = nvec[1] * w_rate + (1 + r_rate) * bvec_guess[0] - bvec_guess[1]\n",
    "    c3 = nvec[2] * w_rate + (1 + r_rate) * bvec_guess[1]\n",
    "    # for any c[s] <= 0, set to true\n",
    "    c_cnstr = np.array([c1, c2, c3]) <= 0\n",
    "    print(c_cnstr)\n",
    "    # set elements equal to True according to conditions\n",
    "    if K <= 0:\n",
    "        K_cnstr[0] = True\n",
    "    if c_cnstr[0] == True:\n",
    "        b_cnstr[0] = True\n",
    "    if c_cnstr[1] == True:\n",
    "        b_cnstr[:] = True\n",
    "    if c_cnstr[2] == True:\n",
    "        b_cnstr[1] = True\n",
    "    return b_cnstr, c_cnstr, K_cnstr"
   ]
  },
  {
   "cell_type": "code",
   "execution_count": 5,
   "metadata": {},
   "outputs": [
    {
     "name": "stdout",
     "output_type": "stream",
     "text": [
      "[ True False False]\n"
     ]
    },
    {
     "data": {
      "text/plain": [
       "(array([ True, False]), array([ True, False, False]), array([False]))"
      ]
     },
     "execution_count": 5,
     "metadata": {},
     "output_type": "execute_result"
    }
   ],
   "source": [
    "# PART A\n",
    "f_params = nvec, A, α, δ\n",
    "bvec_guess = np.array([1.0, 1.2])\n",
    "feasible(f_params, bvec_guess)"
   ]
  },
  {
   "cell_type": "markdown",
   "metadata": {},
   "source": [
    "The budget constraint at time period 1 is violated."
   ]
  },
  {
   "cell_type": "code",
   "execution_count": 6,
   "metadata": {},
   "outputs": [
    {
     "name": "stdout",
     "output_type": "stream",
     "text": [
      "[False False False]\n"
     ]
    },
    {
     "data": {
      "text/plain": [
       "(array([False, False]), array([False, False, False]), array([False]))"
      ]
     },
     "execution_count": 6,
     "metadata": {},
     "output_type": "execute_result"
    }
   ],
   "source": [
    "# PART B\n",
    "bvec_guess = np.array([0.06, -0.001])\n",
    "feasible(f_params, bvec_guess)"
   ]
  },
  {
   "cell_type": "markdown",
   "metadata": {},
   "source": [
    "None of the constraints are violated."
   ]
  },
  {
   "cell_type": "code",
   "execution_count": 7,
   "metadata": {},
   "outputs": [
    {
     "name": "stdout",
     "output_type": "stream",
     "text": [
      "[False False False]\n"
     ]
    },
    {
     "data": {
      "text/plain": [
       "(array([False, False]), array([False, False, False]), array([False]))"
      ]
     },
     "execution_count": 7,
     "metadata": {},
     "output_type": "execute_result"
    }
   ],
   "source": [
    "# PART C\n",
    "bvec_guess = np.array([0.1, 0.1])\n",
    "feasible(f_params, bvec_guess)"
   ]
  },
  {
   "cell_type": "markdown",
   "metadata": {},
   "source": [
    "None of the constraints are violated."
   ]
  },
  {
   "cell_type": "code",
   "execution_count": 8,
   "metadata": {},
   "outputs": [],
   "source": [
    "# PROBLEM 2.2\n",
    "SS_tol = 1e-5\n",
    "def get_SS(bvec, args, SS_graphs = False):\n",
    "    start = time.clock()\n",
    "    # variables\n",
    "    nvec, β, σ, A, α, δ, SS_tol = args\n",
    "    n1, n2, n3 = nvec\n",
    "    L = np.sum(nvec)\n",
    "    # function that returns the paths of periods 1 and 2\n",
    "    def paths(bvec):\n",
    "        b2, b3 = bvec\n",
    "        K = np.sum(bvec)\n",
    "        w_rate = w(α, A, K, L)\n",
    "        r_rate = r(α, A, L, K, δ)\n",
    "        p1 = u1(n1 * w_rate - b2) - β * (1 + r_rate) * u1(n2 * w_rate + (1 + r_rate) * b2 - b3)\n",
    "        p2 = u1(n2 * w_rate + (1 + r_rate) * b2 - b3) - β * (1 + r_rate) * u1((1 + r_rate) * b3 + n3 * w_rate)\n",
    "        return p1, p2\n",
    "    # solve for steady states\n",
    "    b_ss = opt.root(paths, x0 = bvec, tol = SS_tol).x\n",
    "    K_ss = np.sum(b_ss)        \n",
    "    w_ss = w(α, A, K_ss, L)  \n",
    "    r_ss = r(α, A, L, K_ss, δ)\n",
    "    # consumption\n",
    "    c_1 = n1 * w_ss - b_ss[0]\n",
    "    c_2 = n2 * w_ss + (1 + r_ss) * b_ss[0] - b_ss[1]\n",
    "    c_3 = n3 * w_ss + (1 + r_ss) * b_ss[1]\n",
    "    c_ss = np.array([c_1, c_2, c_3])\n",
    "    C_ss = c_ss.sum()      \n",
    "    # output\n",
    "    Y_ss = C_ss + (b_ss[1] - (1 - δ) * b_ss[0]).sum()\n",
    "    # Euler error\n",
    "    EulErr_ss = β * (1 + r_ss) * u1(c_ss[1:]) - u1(c_ss[:-1])\n",
    "    # resource error\n",
    "    RCerr_ss = Y_ss - C_ss - δ * K_ss\n",
    "    # graph\n",
    "    if SS_graphs == True:\n",
    "        fig, axes = plt.subplots(1, 2, figsize=(12, 4))\n",
    "        axes[0].bar(range(2, 4), b_ss)\n",
    "        axes[0].set(xticks=([2, 3]), xlabel='State', title='Steady state $b_t$')\n",
    "        axes[1].bar(range(1, 4), c_ss)\n",
    "        axes[1].set(xticks=([1, 2, 3]), xlabel='State', title='Steady state $c_t$')\n",
    "        plt.tight_layout()\n",
    "        plt.show()\n",
    "    # time\n",
    "    ss_time = time.clock() - start\n",
    "    # return values\n",
    "    ss_output = {\n",
    "        'b_ss': b_ss, 'c_ss': c_ss, 'w_ss': w_ss, 'r_ss': r_ss, \n",
    "        'K_ss': K_ss, 'Y_ss': Y_ss, 'C_ss': C_ss, \n",
    "        'EulErr_ss': EulErr_ss, 'RCerr_ss': RCerr_ss, \n",
    "        'ss_time': ss_time}\n",
    "    return ss_output"
   ]
  },
  {
   "cell_type": "code",
   "execution_count": 9,
   "metadata": {},
   "outputs": [],
   "source": [
    "# PART A\n",
    "args = (nvec, β, σ, A, α, δ, SS_tol)\n",
    "ss = get_SS(bvec_guess, args)"
   ]
  },
  {
   "cell_type": "code",
   "execution_count": 10,
   "metadata": {},
   "outputs": [
    {
     "data": {
      "image/png": "[encoded data removed]",
      "text/plain": [
       "<matplotlib.figure.Figure at 0x1135b1e10>"
      ]
     },
     "metadata": {},
     "output_type": "display_data"
    },
    {
     "data": {
      "text/plain": [
       "{'C_ss': 0.6329006782167177,\n",
       " 'EulErr_ss': array([ 4.50781670e-06, -8.92472291e-06]),\n",
       " 'K_ss': 0.0777236279220895,\n",
       " 'RCerr_ss': 0.0016278487132806718,\n",
       " 'Y_ss': 0.6843882342420188,\n",
       " 'b_ss': array([0.01931253, 0.0584111 ]),\n",
       " 'c_ss': array([0.18241213, 0.20961468, 0.24087387]),\n",
       " 'r_ss': 2.433062283358659,\n",
       " 'ss_time': 0.5634190000000001,\n",
       " 'w_ss': 0.20172465936076353}"
      ]
     },
     "execution_count": 10,
     "metadata": {},
     "output_type": "execute_result"
    }
   ],
   "source": [
    "# PART B\n",
    "get_SS(bvec_guess, args, True)"
   ]
  },
  {
   "cell_type": "code",
   "execution_count": 11,
   "metadata": {},
   "outputs": [
    {
     "data": {
      "text/plain": [
       "{'C_ss': 0.691284290244305,\n",
       " 'EulErr_ss': array([6.82726977e-08, 2.51137209e-08]),\n",
       " 'K_ss': 0.10504237016721853,\n",
       " 'RCerr_ss': -0.0006206546125954587,\n",
       " 'Y_ss': 0.7580483160939803,\n",
       " 'b_ss': array([0.02817692, 0.07686545]),\n",
       " 'c_ss': array([0.19597528, 0.22861594, 0.26669307]),\n",
       " 'r_ss': 1.8863765066381661,\n",
       " 'ss_time': 0.0005639999999997869,\n",
       " 'w_ss': 0.2241521958905792}"
      ]
     },
     "execution_count": 11,
     "metadata": {},
     "output_type": "execute_result"
    }
   ],
   "source": [
    "# PART C\n",
    "β = 0.55\n",
    "args = (nvec, β, σ, A, α, δ, SS_tol)\n",
    "get_SS(bvec_guess, args)"
   ]
  },
  {
   "cell_type": "markdown",
   "metadata": {},
   "source": [
    "If $\\beta$ increases, the steady state consumption, capital, output, and wage values increase, while the steady state interest rate decreases. This is because a higher discount factor means that in the future, consumption of goods is worth less (in present value) than that of today. So, consumption increases today."
   ]
  },
  {
   "cell_type": "code",
   "execution_count": 12,
   "metadata": {},
   "outputs": [],
   "source": [
    "# PROBLEM 2.3"
   ]
  },
  {
   "cell_type": "code",
   "execution_count": 13,
   "metadata": {},
   "outputs": [],
   "source": [
    "# set parameters\n",
    "T = 20\n",
    "δ = 0.6415\n",
    "σ = 3\n",
    "A = 1\n",
    "α = 0.35\n",
    "nvec = np.array([1, 1, 0.2])\n",
    "n1, n2, n3 = nvec\n",
    "L = np.sum(nvec)\n",
    "# steady states\n",
    "bbar2, bbar3 = ss['b_ss']\n",
    "Kbar = ss['K_ss']\n",
    "b21, b31 = 0.8 * bbar2, 1.1 * bbar3\n",
    "K1 = b21 + b31"
   ]
  },
  {
   "cell_type": "code",
   "execution_count": 14,
   "metadata": {},
   "outputs": [],
   "source": [
    "# functions for euler equations\n",
    "def euler_b2(w1, w2, r2, b2, b3, β):\n",
    "    u1(n1 * w1 - b2) - β * (1 + r2) * u1(n2 * w2 + (1 + r2) * b2 - b3)\n",
    "def euler_b3(w2, w3, r2, r3, b2, b3, β):\n",
    "    u1(n2 * w2 + (1 + r2) * b2 - b3) - β * (1 + r3) * u1((1 + r3) * b3 + n3 * w3)"
   ]
  },
  {
   "cell_type": "code",
   "execution_count": 15,
   "metadata": {},
   "outputs": [],
   "source": [
    "# function that calculates b2t2 and b3t3\n",
    "def b2t2_b3t3(bvec, w1, w2, w3, r2, r3, β):\n",
    "    b2t2, b3t3 = bvec\n",
    "    e1 = euler_b2(w1, w2, r2, b2t2, b3t3, β)\n",
    "    e2 = euler_b3(w2, w3, r2, r3, b2t2, b3t3, β)\n",
    "    return np.array([e1, e2]).flatten()"
   ]
  },
  {
   "cell_type": "code",
   "execution_count": 24,
   "metadata": {},
   "outputs": [],
   "source": [
    "# function that updates bmat\n",
    "def update_bmat(b21, b31, K, bmat, T, m, β):\n",
    "    w_rate = w(α, A, K, L)\n",
    "    r_rate = r(α, A, L, K, δ)\n",
    "    euler_errors = np.ones((T + m, 2))\n",
    "    for i in range(1, T + m - 2):\n",
    "        w1, w2, w3 = w_rate[i - 1], w_rate[i], w_rate[i + 1]\n",
    "        r2, r3 = r_rate[i], r_rate[i + 1]\n",
    "        sol = opt.root(b2t2_b3t3, np.zeros(2), args = (w1, w2, w3, r2, r3, β))\n",
    "        b2t2, b3t3 = sol.x\n",
    "        euler_errors[i - 1, :] = sol.fun\n",
    "        bmat[i, 0] = b2t2\n",
    "        bmat[i + 1, 1] = b3t3\n",
    "    return bmat, euler_errors"
   ]
  },
  {
   "cell_type": "code",
   "execution_count": 25,
   "metadata": {},
   "outputs": [],
   "source": [
    "# function that calculates b32\n",
    "def find_b32(b32, b21, w1, w2, r1, r2, β):\n",
    "    return euler_b3(w1, w2, r1, r2, b21, b32, β)"
   ]
  },
  {
   "cell_type": "code",
   "execution_count": 28,
   "metadata": {},
   "outputs": [],
   "source": [
    "# function that calculates the ss path\n",
    "def ss_path(b21, b31, T, β = 0.442, ξ = 0.2, ɛ = 1e-9, max_iter = 100):\n",
    "    start = time.clock()\n",
    "    m = 5\n",
    "    dist = 1e3\n",
    "    i = 0\n",
    "    K = np.linspace(K1, Kbar, T + m)\n",
    "    bmat = np.zeros((T + m, 2))\n",
    "    bmat[0, :] = b21, b31\n",
    "    # Solve for the b32\n",
    "    w_rate = w(α, A, K, L)\n",
    "    r_rate = r(α, A, L, K, δ)\n",
    "    bmat[1, 1] = opt.root(find_b32, b31, args = (b21, w_rate[0], w_rate[1], r_rate[0], r_rate[1], β)).x\n",
    "    while (i < max_iter) and (dist > ɛ):        \n",
    "        bmat, e = update_bmat(b21, b31, K, bmat, T, m, β)\n",
    "        K_prime = bmat.sum(axis=1)\n",
    "        dist = ((K_prime - K)**2).sum()\n",
    "        K = ξ * K_prime + (1 - ξ) * K\n",
    "        i += 1\n",
    "    ss_time = time.clock() - start\n",
    "    if dist < ɛ:\n",
    "        print(f'Converged in {i} iterations')\n",
    "    else:\n",
    "        print('Did not converge') \n",
    "    K_path = K\n",
    "    b2_path = bmat[:, 0]\n",
    "    b3_path = bmat[:, 1]\n",
    "    euler_errors = e[:-m]\n",
    "    print(f'The maximum Euler error is {euler_errors.max()}')\n",
    "    w_path = w(α, A, K_path, L)\n",
    "    r_path = r(α, A, L, K_path, δ)\n",
    "    c_1_path = n1 * w_path - b2_path\n",
    "    c_2_path = n2 * w_path + (1 + r_path) * b2_path - b3_path\n",
    "    c_3_path = n3 * w_path + (1 + r_path) * b3_path\n",
    "    c_path = np.array([c_1_path, c_2_path, c_3_path])\n",
    "    C_path = c_path.sum(axis=0)\n",
    "    I_path = K_path[1:] - (1 - δ) * K_path[:-1]\n",
    "    Y_path = C_path[:-1] + I_path\n",
    "    RCerr_bar = Y_path - C_path[:-1] - δ * I_path\n",
    "    print(f'The maximum resource constraint error is {RCerr_bar[:-m].max()}')\n",
    "    return K_path[:-m], w_path[:-m], r_path[:-m]"
   ]
  },
  {
   "cell_type": "code",
   "execution_count": 29,
   "metadata": {},
   "outputs": [
    {
     "ename": "TypeError",
     "evalue": "Cannot cast array data from dtype('O') to dtype('float64') according to the rule 'safe'",
     "output_type": "error",
     "traceback": [
      "\u001b[0;31m---------------------------------------------------------------------------\u001b[0m",
      "\u001b[0;31mTypeError\u001b[0m                                 Traceback (most recent call last)",
      "\u001b[0;31mTypeError\u001b[0m: Cannot cast array data from dtype('O') to dtype('float64') according to the rule 'safe'"
     ]
    },
    {
     "ename": "error",
     "evalue": "Result from function call is not a proper array of floats.",
     "output_type": "error",
     "traceback": [
      "\u001b[0;31m---------------------------------------------------------------------------\u001b[0m",
      "\u001b[0;31merror\u001b[0m                                     Traceback (most recent call last)",
      "\u001b[0;32m<ipython-input-29-0148fd43b385>\u001b[0m in \u001b[0;36m<module>\u001b[0;34m()\u001b[0m\n\u001b[0;32m----> 1\u001b[0;31m \u001b[0mpath\u001b[0m \u001b[0;34m=\u001b[0m \u001b[0mss_path\u001b[0m\u001b[0;34m(\u001b[0m\u001b[0mb21\u001b[0m\u001b[0;34m,\u001b[0m \u001b[0mb31\u001b[0m\u001b[0;34m,\u001b[0m \u001b[0;36m20\u001b[0m\u001b[0;34m)\u001b[0m\u001b[0;34m\u001b[0m\u001b[0m\n\u001b[0m",
      "\u001b[0;32m<ipython-input-28-9f57ce3d8d70>\u001b[0m in \u001b[0;36mss_path\u001b[0;34m(b21, b31, T, β, ξ, ɛ, max_iter)\u001b[0m\n\u001b[1;32m     13\u001b[0m     \u001b[0mbmat\u001b[0m\u001b[0;34m[\u001b[0m\u001b[0;36m1\u001b[0m\u001b[0;34m,\u001b[0m \u001b[0;36m1\u001b[0m\u001b[0;34m]\u001b[0m \u001b[0;34m=\u001b[0m \u001b[0mopt\u001b[0m\u001b[0;34m.\u001b[0m\u001b[0mroot\u001b[0m\u001b[0;34m(\u001b[0m\u001b[0mfind_b32\u001b[0m\u001b[0;34m,\u001b[0m \u001b[0mb31\u001b[0m\u001b[0;34m,\u001b[0m \u001b[0margs\u001b[0m \u001b[0;34m=\u001b[0m \u001b[0;34m(\u001b[0m\u001b[0mb21\u001b[0m\u001b[0;34m,\u001b[0m \u001b[0mw_rate\u001b[0m\u001b[0;34m[\u001b[0m\u001b[0;36m0\u001b[0m\u001b[0;34m]\u001b[0m\u001b[0;34m,\u001b[0m \u001b[0mw_rate\u001b[0m\u001b[0;34m[\u001b[0m\u001b[0;36m1\u001b[0m\u001b[0;34m]\u001b[0m\u001b[0;34m,\u001b[0m \u001b[0mr_rate\u001b[0m\u001b[0;34m[\u001b[0m\u001b[0;36m0\u001b[0m\u001b[0;34m]\u001b[0m\u001b[0;34m,\u001b[0m \u001b[0mr_rate\u001b[0m\u001b[0;34m[\u001b[0m\u001b[0;36m1\u001b[0m\u001b[0;34m]\u001b[0m\u001b[0;34m,\u001b[0m \u001b[0mβ\u001b[0m\u001b[0;34m)\u001b[0m\u001b[0;34m)\u001b[0m\u001b[0;34m.\u001b[0m\u001b[0mx\u001b[0m\u001b[0;34m\u001b[0m\u001b[0m\n\u001b[1;32m     14\u001b[0m     \u001b[0;32mwhile\u001b[0m \u001b[0;34m(\u001b[0m\u001b[0mi\u001b[0m \u001b[0;34m<\u001b[0m \u001b[0mmax_iter\u001b[0m\u001b[0;34m)\u001b[0m \u001b[0;32mand\u001b[0m \u001b[0;34m(\u001b[0m\u001b[0mdist\u001b[0m \u001b[0;34m>\u001b[0m \u001b[0mɛ\u001b[0m\u001b[0;34m)\u001b[0m\u001b[0;34m:\u001b[0m\u001b[0;34m\u001b[0m\u001b[0m\n\u001b[0;32m---> 15\u001b[0;31m         \u001b[0mbmat\u001b[0m\u001b[0;34m,\u001b[0m \u001b[0me\u001b[0m \u001b[0;34m=\u001b[0m \u001b[0mupdate_bmat\u001b[0m\u001b[0;34m(\u001b[0m\u001b[0mb21\u001b[0m\u001b[0;34m,\u001b[0m \u001b[0mb31\u001b[0m\u001b[0;34m,\u001b[0m \u001b[0mK\u001b[0m\u001b[0;34m,\u001b[0m \u001b[0mbmat\u001b[0m\u001b[0;34m,\u001b[0m \u001b[0mT\u001b[0m\u001b[0;34m,\u001b[0m \u001b[0mm\u001b[0m\u001b[0;34m,\u001b[0m \u001b[0mβ\u001b[0m\u001b[0;34m)\u001b[0m\u001b[0;34m\u001b[0m\u001b[0m\n\u001b[0m\u001b[1;32m     16\u001b[0m         \u001b[0mK_prime\u001b[0m \u001b[0;34m=\u001b[0m \u001b[0mbmat\u001b[0m\u001b[0;34m.\u001b[0m\u001b[0msum\u001b[0m\u001b[0;34m(\u001b[0m\u001b[0maxis\u001b[0m\u001b[0;34m=\u001b[0m\u001b[0;36m1\u001b[0m\u001b[0;34m)\u001b[0m\u001b[0;34m\u001b[0m\u001b[0m\n\u001b[1;32m     17\u001b[0m         \u001b[0mdist\u001b[0m \u001b[0;34m=\u001b[0m \u001b[0;34m(\u001b[0m\u001b[0;34m(\u001b[0m\u001b[0mK_prime\u001b[0m \u001b[0;34m-\u001b[0m \u001b[0mK\u001b[0m\u001b[0;34m)\u001b[0m\u001b[0;34m**\u001b[0m\u001b[0;36m2\u001b[0m\u001b[0;34m)\u001b[0m\u001b[0;34m.\u001b[0m\u001b[0msum\u001b[0m\u001b[0;34m(\u001b[0m\u001b[0;34m)\u001b[0m\u001b[0;34m\u001b[0m\u001b[0m\n",
      "\u001b[0;32m<ipython-input-24-98186763db0f>\u001b[0m in \u001b[0;36mupdate_bmat\u001b[0;34m(b21, b31, K, bmat, T, m, β)\u001b[0m\n\u001b[1;32m     13\u001b[0m         solution = opt.root(b2t2_b3t3, \n\u001b[1;32m     14\u001b[0m                           \u001b[0mnp\u001b[0m\u001b[0;34m.\u001b[0m\u001b[0mzeros\u001b[0m\u001b[0;34m(\u001b[0m\u001b[0;36m2\u001b[0m\u001b[0;34m)\u001b[0m\u001b[0;34m,\u001b[0m\u001b[0;34m\u001b[0m\u001b[0m\n\u001b[0;32m---> 15\u001b[0;31m                           args=(w1, w2, w3, r2, r3, β))\n\u001b[0m\u001b[1;32m     16\u001b[0m         \u001b[0mb2t2\u001b[0m\u001b[0;34m,\u001b[0m \u001b[0mb3t3\u001b[0m \u001b[0;34m=\u001b[0m \u001b[0msolution\u001b[0m\u001b[0;34m.\u001b[0m\u001b[0mx\u001b[0m\u001b[0;34m\u001b[0m\u001b[0m\n\u001b[1;32m     17\u001b[0m         \u001b[0meuler_errors\u001b[0m\u001b[0;34m[\u001b[0m\u001b[0mt\u001b[0m\u001b[0;34m-\u001b[0m\u001b[0;36m1\u001b[0m\u001b[0;34m,\u001b[0m \u001b[0;34m:\u001b[0m\u001b[0;34m]\u001b[0m \u001b[0;34m=\u001b[0m \u001b[0msolution\u001b[0m\u001b[0;34m.\u001b[0m\u001b[0mfun\u001b[0m\u001b[0;34m\u001b[0m\u001b[0m\n",
      "\u001b[0;32m~/anaconda3/lib/python3.6/site-packages/scipy/optimize/_root.py\u001b[0m in \u001b[0;36mroot\u001b[0;34m(fun, x0, args, method, jac, tol, callback, options)\u001b[0m\n\u001b[1;32m    184\u001b[0m \u001b[0;34m\u001b[0m\u001b[0m\n\u001b[1;32m    185\u001b[0m     \u001b[0;32mif\u001b[0m \u001b[0mmeth\u001b[0m \u001b[0;34m==\u001b[0m \u001b[0;34m'hybr'\u001b[0m\u001b[0;34m:\u001b[0m\u001b[0;34m\u001b[0m\u001b[0m\n\u001b[0;32m--> 186\u001b[0;31m         \u001b[0msol\u001b[0m \u001b[0;34m=\u001b[0m \u001b[0m_root_hybr\u001b[0m\u001b[0;34m(\u001b[0m\u001b[0mfun\u001b[0m\u001b[0;34m,\u001b[0m \u001b[0mx0\u001b[0m\u001b[0;34m,\u001b[0m \u001b[0margs\u001b[0m\u001b[0;34m=\u001b[0m\u001b[0margs\u001b[0m\u001b[0;34m,\u001b[0m \u001b[0mjac\u001b[0m\u001b[0;34m=\u001b[0m\u001b[0mjac\u001b[0m\u001b[0;34m,\u001b[0m \u001b[0;34m**\u001b[0m\u001b[0moptions\u001b[0m\u001b[0;34m)\u001b[0m\u001b[0;34m\u001b[0m\u001b[0m\n\u001b[0m\u001b[1;32m    187\u001b[0m     \u001b[0;32melif\u001b[0m \u001b[0mmeth\u001b[0m \u001b[0;34m==\u001b[0m \u001b[0;34m'lm'\u001b[0m\u001b[0;34m:\u001b[0m\u001b[0;34m\u001b[0m\u001b[0m\n\u001b[1;32m    188\u001b[0m         \u001b[0msol\u001b[0m \u001b[0;34m=\u001b[0m \u001b[0m_root_leastsq\u001b[0m\u001b[0;34m(\u001b[0m\u001b[0mfun\u001b[0m\u001b[0;34m,\u001b[0m \u001b[0mx0\u001b[0m\u001b[0;34m,\u001b[0m \u001b[0margs\u001b[0m\u001b[0;34m=\u001b[0m\u001b[0margs\u001b[0m\u001b[0;34m,\u001b[0m \u001b[0mjac\u001b[0m\u001b[0;34m=\u001b[0m\u001b[0mjac\u001b[0m\u001b[0;34m,\u001b[0m \u001b[0;34m**\u001b[0m\u001b[0moptions\u001b[0m\u001b[0;34m)\u001b[0m\u001b[0;34m\u001b[0m\u001b[0m\n",
      "\u001b[0;32m~/anaconda3/lib/python3.6/site-packages/scipy/optimize/minpack.py\u001b[0m in \u001b[0;36m_root_hybr\u001b[0;34m(func, x0, args, jac, col_deriv, xtol, maxfev, band, eps, factor, diag, **unknown_options)\u001b[0m\n\u001b[1;32m    222\u001b[0m             \u001b[0mmaxfev\u001b[0m \u001b[0;34m=\u001b[0m \u001b[0;36m200\u001b[0m \u001b[0;34m*\u001b[0m \u001b[0;34m(\u001b[0m\u001b[0mn\u001b[0m \u001b[0;34m+\u001b[0m \u001b[0;36m1\u001b[0m\u001b[0;34m)\u001b[0m\u001b[0;34m\u001b[0m\u001b[0m\n\u001b[1;32m    223\u001b[0m         retval = _minpack._hybrd(func, x0, args, 1, xtol, maxfev,\n\u001b[0;32m--> 224\u001b[0;31m                                  ml, mu, epsfcn, factor, diag)\n\u001b[0m\u001b[1;32m    225\u001b[0m     \u001b[0;32melse\u001b[0m\u001b[0;34m:\u001b[0m\u001b[0;34m\u001b[0m\u001b[0m\n\u001b[1;32m    226\u001b[0m         \u001b[0m_check_func\u001b[0m\u001b[0;34m(\u001b[0m\u001b[0;34m'fsolve'\u001b[0m\u001b[0;34m,\u001b[0m \u001b[0;34m'fprime'\u001b[0m\u001b[0;34m,\u001b[0m \u001b[0mDfun\u001b[0m\u001b[0;34m,\u001b[0m \u001b[0mx0\u001b[0m\u001b[0;34m,\u001b[0m \u001b[0margs\u001b[0m\u001b[0;34m,\u001b[0m \u001b[0mn\u001b[0m\u001b[0;34m,\u001b[0m \u001b[0;34m(\u001b[0m\u001b[0mn\u001b[0m\u001b[0;34m,\u001b[0m \u001b[0mn\u001b[0m\u001b[0;34m)\u001b[0m\u001b[0;34m)\u001b[0m\u001b[0;34m\u001b[0m\u001b[0m\n",
      "\u001b[0;31merror\u001b[0m: Result from function call is not a proper array of floats."
     ]
    }
   ],
   "source": [
    "# PART A\n",
    "path = ss_path(b21, b31, 20)"
   ]
  },
  {
   "cell_type": "code",
   "execution_count": 30,
   "metadata": {},
   "outputs": [
    {
     "ename": "NameError",
     "evalue": "name 'path' is not defined",
     "output_type": "error",
     "traceback": [
      "\u001b[0;31m---------------------------------------------------------------------------\u001b[0m",
      "\u001b[0;31mNameError\u001b[0m                                 Traceback (most recent call last)",
      "\u001b[0;32m<ipython-input-30-6c1032a3fa4f>\u001b[0m in \u001b[0;36m<module>\u001b[0;34m()\u001b[0m\n\u001b[1;32m      7\u001b[0m \u001b[0;32mfor\u001b[0m \u001b[0mi\u001b[0m \u001b[0;32min\u001b[0m \u001b[0mrange\u001b[0m\u001b[0;34m(\u001b[0m\u001b[0;36m3\u001b[0m\u001b[0;34m)\u001b[0m\u001b[0;34m:\u001b[0m\u001b[0;34m\u001b[0m\u001b[0m\n\u001b[1;32m      8\u001b[0m \u001b[0;34m\u001b[0m\u001b[0m\n\u001b[0;32m----> 9\u001b[0;31m     \u001b[0maxes\u001b[0m\u001b[0;34m[\u001b[0m\u001b[0mi\u001b[0m\u001b[0;34m]\u001b[0m\u001b[0;34m.\u001b[0m\u001b[0mplot\u001b[0m\u001b[0;34m(\u001b[0m\u001b[0mpath\u001b[0m\u001b[0;34m[\u001b[0m\u001b[0mi\u001b[0m\u001b[0;34m]\u001b[0m\u001b[0;34m)\u001b[0m\u001b[0;34m\u001b[0m\u001b[0m\n\u001b[0m\u001b[1;32m     10\u001b[0m     \u001b[0maxes\u001b[0m\u001b[0;34m[\u001b[0m\u001b[0mi\u001b[0m\u001b[0;34m]\u001b[0m\u001b[0;34m.\u001b[0m\u001b[0mset_title\u001b[0m\u001b[0;34m(\u001b[0m\u001b[0mtitles\u001b[0m\u001b[0;34m[\u001b[0m\u001b[0mi\u001b[0m\u001b[0;34m]\u001b[0m\u001b[0;34m)\u001b[0m\u001b[0;34m\u001b[0m\u001b[0m\n\u001b[1;32m     11\u001b[0m     \u001b[0maxes\u001b[0m\u001b[0;34m[\u001b[0m\u001b[0mi\u001b[0m\u001b[0;34m]\u001b[0m\u001b[0;34m.\u001b[0m\u001b[0mgrid\u001b[0m\u001b[0;34m(\u001b[0m\u001b[0;34m)\u001b[0m\u001b[0;34m\u001b[0m\u001b[0m\n",
      "\u001b[0;31mNameError\u001b[0m: name 'path' is not defined"
     ]
    },
    {
     "data": {
      "image/png": "[encoded data removed]",
      "text/plain": [
       "<matplotlib.figure.Figure at 0x116c739b0>"
      ]
     },
     "metadata": {},
     "output_type": "display_data"
    }
   ],
   "source": [
    "# PART B\n",
    "# plot\n",
    "fig, axes = plt.subplots(3, 1, figsize=(10, 13))\n",
    "titles = ['Equilibrium time path of $K_t$',\n",
    "          'Equilibrium time path of $w_t$',\n",
    "          'Equilibrium time path of $r_t$']\n",
    "\n",
    "for i in range(3):\n",
    "\n",
    "    axes[i].plot(path[i])\n",
    "    axes[i].set_title(titles[i])\n",
    "    axes[i].grid()\n",
    "    \n",
    "plt.show()"
   ]
  },
  {
   "cell_type": "code",
   "execution_count": null,
   "metadata": {},
   "outputs": [],
   "source": [
    "# PART C\n",
    "np.argwhere((path[0] - Kbar) < 0.00001) + 1"
   ]
  },
  {
   "cell_type": "markdown",
   "metadata": {},
   "source": [
    "It took the economy 2 periods to get within 0.00001 of the steady-state capital stock K. After period 4, the aggregate capital stock is never again farther than 0.00001 away from the steady-state."
   ]
  }
 ],
 "metadata": {
  "kernelspec": {
   "display_name": "Python 3",
   "language": "python",
   "name": "python3"
  },
  "language_info": {
   "codemirror_mode": {
    "name": "ipython",
    "version": 3
   },
   "file_extension": ".py",
   "mimetype": "text/x-python",
   "name": "python",
   "nbconvert_exporter": "python",
   "pygments_lexer": "ipython3",
   "version": "3.6.4"
  }
 },
 "nbformat": 4,
 "nbformat_minor": 2
}
